{
  "nbformat": 4,
  "nbformat_minor": 0,
  "metadata": {
    "colab": {
      "provenance": []
    },
    "kernelspec": {
      "name": "python3",
      "display_name": "Python 3"
    },
    "language_info": {
      "name": "python"
    }
  },
  "cells": [
    {
      "cell_type": "code",
      "execution_count": null,
      "metadata": {
        "colab": {
          "base_uri": "https://localhost:8080/"
        },
        "id": "ZdWjLEEdNZr6",
        "outputId": "cc8b2c51-ba5c-4b6b-924f-4bf4e869d353"
      },
      "outputs": [
        {
          "output_type": "stream",
          "name": "stdout",
          "text": [
            "Name of the student : Romi\n",
            "Id : 12\n",
            "Email : abc@gmail.com\n"
          ]
        }
      ],
      "source": [
        "from os import EX_TEMPFAIL\n",
        "# Inheritance\n",
        "class Student:\n",
        "  def __init__(self,name,id,number):\n",
        "    self.name = name\n",
        "    self.id = id\n",
        "    self.number = number\n",
        "\n",
        "  def print(self):\n",
        "    print(f\"Name of the student : {self.name}\\nId : {self.id}\\nNumber : {self.number}\")\n",
        "\n",
        "class personal_info(Student):\n",
        "\n",
        "  def info(self,email):\n",
        "    self.email = email\n",
        "    print(f\"Name of the student : {self.name}\\nId : {self.id}\\nEmail : {self.email}\")\n",
        "\n",
        "\n",
        "#student = Student(\"Romi\",12,1234)\n",
        "#student.print()\n",
        "x = personal_info(\"Romi\",12,1234)\n",
        "x.info(\"abc@gmail.com\")\n"
      ]
    },
    {
      "cell_type": "code",
      "source": [
        "import numpy as np\n",
        "monthly_sales = np.array([200, 220, 250, 275, 300, 320,\n",
        "                          350, 370, 400, 420, 450, 475])"
      ],
      "metadata": {
        "id": "WYr8IajvMDdh"
      },
      "execution_count": null,
      "outputs": []
    },
    {
      "cell_type": "code",
      "source": [
        "print(f\"January {monthly_sales[0]}\")\n",
        "print(f\"December {monthly_sales[11]}\")"
      ],
      "metadata": {
        "colab": {
          "base_uri": "https://localhost:8080/"
        },
        "id": "gg6dLcSmMDZF",
        "outputId": "865a7a89-b243-41f4-cb30-b65ebae6e988"
      },
      "execution_count": null,
      "outputs": [
        {
          "output_type": "stream",
          "name": "stdout",
          "text": [
            "January 200\n",
            "December 475\n"
          ]
        }
      ]
    },
    {
      "cell_type": "code",
      "source": [
        "q1 = monthly_sales[:3]\n",
        "print(q1)\n",
        "q2 = monthly_sales[3:6]\n",
        "print(q2)\n",
        "q3 = monthly_sales[6:9]\n",
        "print(q3)\n",
        "q4 = monthly_sales[9:]\n",
        "print(q4)"
      ],
      "metadata": {
        "colab": {
          "base_uri": "https://localhost:8080/"
        },
        "id": "r9k1mModOSTH",
        "outputId": "6fa84da7-a1a2-482f-f9fe-faec655003a9"
      },
      "execution_count": null,
      "outputs": [
        {
          "output_type": "stream",
          "name": "stdout",
          "text": [
            "[200 220 250]\n",
            "[275 300 320]\n",
            "[350 370 400]\n",
            "[420 450 475]\n"
          ]
        }
      ]
    },
    {
      "cell_type": "code",
      "source": [
        "monthly_sales[3] = 280\n",
        "print(monthly_sales[3])"
      ],
      "metadata": {
        "colab": {
          "base_uri": "https://localhost:8080/"
        },
        "id": "fWeaXfT6PH79",
        "outputId": "60e108f7-3475-4135-b5dd-2189a5a952ea"
      },
      "execution_count": null,
      "outputs": [
        {
          "output_type": "stream",
          "name": "stdout",
          "text": [
            "280\n"
          ]
        }
      ]
    },
    {
      "cell_type": "code",
      "source": [
        "x = monthly_sales[5:8]\n",
        "print(x)\n",
        "np.mean(monthly_sales[5:8])"
      ],
      "metadata": {
        "colab": {
          "base_uri": "https://localhost:8080/"
        },
        "id": "YHtjKCDVSrG3",
        "outputId": "169ac2fd-feea-43c6-cca3-720ad40e57b2"
      },
      "execution_count": null,
      "outputs": [
        {
          "output_type": "stream",
          "name": "stdout",
          "text": [
            "[320 350 370]\n"
          ]
        },
        {
          "output_type": "execute_result",
          "data": {
            "text/plain": [
              "346.6666666666667"
            ]
          },
          "metadata": {},
          "execution_count": 16
        }
      ]
    },
    {
      "cell_type": "code",
      "source": [
        "import numpy as np\n",
        "monthly_sale = np.random.randint(100,500,12)\n",
        "print(monthly_sale)\n",
        "\n",
        "discounted_sale = []\n",
        "for i in monthly_sale:\n",
        "\n",
        "  discounted_sale.append(i*0.9)\n",
        "print(discounted_sale)\n"
      ],
      "metadata": {
        "colab": {
          "base_uri": "https://localhost:8080/"
        },
        "id": "MA3MkSGHue_v",
        "outputId": "21921ec4-ae28-401e-cb59-7c020c1dcbf3"
      },
      "execution_count": 22,
      "outputs": [
        {
          "output_type": "stream",
          "name": "stdout",
          "text": [
            "[105 270 444 424 163 212 322 471 331 170 481 249]\n",
            "[94.5, 243.0, 399.6, 381.6, 146.70000000000002, 190.8, 289.8, 423.90000000000003, 297.90000000000003, 153.0, 432.90000000000003, 224.1]\n"
          ]
        }
      ]
    },
    {
      "cell_type": "code",
      "source": [
        "import numpy as np\n",
        "def age_stage(age):\n",
        "  if age<18:\n",
        "    return \"Children\"\n",
        "  elif age>=18 and age<65:\n",
        "    return \"Adult\"\n",
        "  else:\n",
        "    return \"Senior Citizen\"\n",
        "age_stage = np.vectorize(age_stage)\n",
        "arr = np.array([21,12,35,65,9])\n",
        "age_stage(arr)\n"
      ],
      "metadata": {
        "colab": {
          "base_uri": "https://localhost:8080/"
        },
        "id": "wJHUOwdo5Glo",
        "outputId": "af83c20f-fc8a-4bc9-c8b8-dcd77afe18be"
      },
      "execution_count": 27,
      "outputs": [
        {
          "output_type": "execute_result",
          "data": {
            "text/plain": [
              "array(['Adult', 'Children', 'Adult', 'Senior Citizen', 'Children'],\n",
              "      dtype='<U14')"
            ]
          },
          "metadata": {},
          "execution_count": 27
        }
      ]
    },
    {
      "cell_type": "code",
      "source": [
        "import numpy as np\n",
        "data = np.random.randint(10,100,25)\n",
        "data = data.reshape(5,5)\n",
        "data"
      ],
      "metadata": {
        "colab": {
          "base_uri": "https://localhost:8080/"
        },
        "id": "4uDCXsjFOYez",
        "outputId": "b6f405f5-7fd9-4349-bfe6-95206054c8b6"
      },
      "execution_count": 34,
      "outputs": [
        {
          "output_type": "execute_result",
          "data": {
            "text/plain": [
              "array([[11, 33, 22, 35, 26],\n",
              "       [14, 68, 77, 48, 49],\n",
              "       [44, 76, 51, 57, 40],\n",
              "       [11, 75, 76, 12, 22],\n",
              "       [49, 40, 87, 27, 85]])"
            ]
          },
          "metadata": {},
          "execution_count": 34
        }
      ]
    },
    {
      "cell_type": "code",
      "source": [
        "import numpy as np\n",
        "data = np.random.randint(10,100,25)\n",
        "\n",
        "print(np.vstack(data))\n",
        "np.hstack(data)"
      ],
      "metadata": {
        "colab": {
          "base_uri": "https://localhost:8080/"
        },
        "id": "2fltT1qURVS6",
        "outputId": "5bc6bcec-c3b5-4bf0-83d3-f9777c868d6d"
      },
      "execution_count": 41,
      "outputs": [
        {
          "output_type": "stream",
          "name": "stdout",
          "text": [
            "[[81]\n",
            " [82]\n",
            " [27]\n",
            " [84]\n",
            " [75]\n",
            " [74]\n",
            " [58]\n",
            " [64]\n",
            " [85]\n",
            " [28]\n",
            " [10]\n",
            " [22]\n",
            " [33]\n",
            " [90]\n",
            " [13]\n",
            " [50]\n",
            " [43]\n",
            " [80]\n",
            " [43]\n",
            " [40]\n",
            " [61]\n",
            " [79]\n",
            " [31]\n",
            " [17]\n",
            " [14]]\n"
          ]
        },
        {
          "output_type": "execute_result",
          "data": {
            "text/plain": [
              "array([81, 82, 27, 84, 75, 74, 58, 64, 85, 28, 10, 22, 33, 90, 13, 50, 43,\n",
              "       80, 43, 40, 61, 79, 31, 17, 14])"
            ]
          },
          "metadata": {},
          "execution_count": 41
        }
      ]
    },
    {
      "cell_type": "code",
      "source": [
        "import numpy as np\n",
        "Shopping_list = [87,np.nan,89,90]\n",
        "\n",
        "np.isnan(Shopping_list)"
      ],
      "metadata": {
        "colab": {
          "base_uri": "https://localhost:8080/"
        },
        "id": "umnc0ayZYxey",
        "outputId": "52039e5c-0987-44ca-db8b-1fc2b7dfca38"
      },
      "execution_count": 46,
      "outputs": [
        {
          "output_type": "execute_result",
          "data": {
            "text/plain": [
              "array([False,  True, False, False])"
            ]
          },
          "metadata": {},
          "execution_count": 46
        }
      ]
    },
    {
      "cell_type": "code",
      "source": [
        "np.nanmean(Shopping_list)\n"
      ],
      "metadata": {
        "colab": {
          "base_uri": "https://localhost:8080/"
        },
        "id": "DSG11StOZ8Xf",
        "outputId": "3b49f606-7b08-4567-e776-425f4b817355"
      },
      "execution_count": 49,
      "outputs": [
        {
          "output_type": "execute_result",
          "data": {
            "text/plain": [
              "88.66666666666667"
            ]
          },
          "metadata": {},
          "execution_count": 49
        }
      ]
    }
  ]
}