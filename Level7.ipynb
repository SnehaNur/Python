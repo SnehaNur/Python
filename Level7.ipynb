{
  "nbformat": 4,
  "nbformat_minor": 0,
  "metadata": {
    "colab": {
      "provenance": []
    },
    "kernelspec": {
      "name": "python3",
      "display_name": "Python 3"
    },
    "language_info": {
      "name": "python"
    }
  },
  "cells": [
    {
      "cell_type": "markdown",
      "source": [
        "**Exercise 28** Tuples"
      ],
      "metadata": {
        "id": "jzetizSrgUbw"
      }
    },
    {
      "cell_type": "code",
      "source": [
        "starting_tuple = (\"Yoda\",\"Han Solo\",\"R2D2\",\"C3P0\")\n",
        "starting_tuple = list(starting_tuple)\n",
        "type(starting_tuple)\n",
        "starting_tuple.append(\"Darth Vader\")\n",
        "print(starting_tuple)"
      ],
      "metadata": {
        "colab": {
          "base_uri": "https://localhost:8080/"
        },
        "id": "tQxBybGiWaAN",
        "outputId": "503488e6-653d-4e93-cec9-8b7eeeb95417"
      },
      "execution_count": 2,
      "outputs": [
        {
          "output_type": "stream",
          "name": "stdout",
          "text": [
            "['Yoda', 'Han Solo', 'R2D2', 'C3P0', 'Darth Vader']\n"
          ]
        }
      ]
    },
    {
      "cell_type": "markdown",
      "source": [
        "**Exercise 29** Dictionary MethodsFunctionality"
      ],
      "metadata": {
        "id": "rOeBU4ae2UQs"
      }
    },
    {
      "cell_type": "code",
      "source": [
        "allegiances = {\"Luke Skywalker\":\"Rebel Alliance\",\n",
        "               \"Darth Vader\":\"Galactic Empire\",\n",
        "               \"Obi-Wan Kenobi\":\"Jedi Order\"}\n",
        "print(allegiances[\"Darth Vader\"])\n",
        "allegiances['Darth Vader'] = \"Sith Order\"\n",
        "allegiances[\"Leia\"] = \"Rebel Alliance\"\n",
        "print(allegiances)"
      ],
      "metadata": {
        "id": "AkYOJwmCWaDF",
        "colab": {
          "base_uri": "https://localhost:8080/"
        },
        "outputId": "acc0c14e-a0dd-4318-848c-7cded9b7d847"
      },
      "execution_count": 14,
      "outputs": [
        {
          "output_type": "stream",
          "name": "stdout",
          "text": [
            "Galactic Empire\n",
            "{'Luke Skywalker': 'Rebel Alliance', 'Darth Vader': 'Sith Order', 'Obi-Wan Kenobi': 'Jedi Order', 'Leia': 'Rebel Alliance'}\n"
          ]
        }
      ]
    },
    {
      "cell_type": "markdown",
      "source": [
        "**Exercise 30** Set"
      ],
      "metadata": {
        "id": "X5wp5JW1CYZI"
      }
    },
    {
      "cell_type": "code",
      "source": [
        "strom_troppers_group1 = [\"tropper_1\",\"tropper_2\",\"tropper_3\",\"tropper_4\"]\n",
        "strom_troppers_group2 = [\"tropper_5\",\"tropper_2\",\"tropper_34\",\"tropper_46\"]\n",
        "\n",
        "strom_troppers_group1 = set(strom_troppers_group1)\n",
        "strom_troppers_group2 = set(strom_troppers_group2)\n",
        "strom_troppers_group1.intersection(strom_troppers_group2)"
      ],
      "metadata": {
        "id": "qFHBka2JWaF4",
        "colab": {
          "base_uri": "https://localhost:8080/"
        },
        "outputId": "d57a749c-c044-4829-cb35-baa9d55f3e36"
      },
      "execution_count": 18,
      "outputs": [
        {
          "output_type": "execute_result",
          "data": {
            "text/plain": [
              "{'tropper_2'}"
            ]
          },
          "metadata": {},
          "execution_count": 18
        }
      ]
    },
    {
      "cell_type": "markdown",
      "source": [
        "**Exercise 31** (Restaurant Menu Manager\n",
        "Completion requirements)\n"
      ],
      "metadata": {
        "id": "dVq3oi0mHqHE"
      }
    },
    {
      "cell_type": "code",
      "source": [
        "menu = {\"Burger\":('Main',10.5),\n",
        "        \"Soup\":('Appetizer',5.0),\n",
        "        \"Ice cream\":('Vanilla',7),\n",
        "        \"Salad\":('Mixed',5)}\n",
        "menu[\"Stake\"]=('Sirloin',20)\n",
        "menu[\"Soda\"]=('Lime',8)\n",
        "menu.pop(\"Salad\")\n",
        "#print(menu)\n",
        "# create a function to display menu\n",
        "def print_info():\n",
        "  for key,value in menu.items():\n",
        "   print(\"Items: \"+str(key)+\"\\nCategory: \"+str(value[0])+\"\\nPrice: \"+str(value[1])+\"$\")\n",
        "print_info()\n",
        "\n",
        "# Create a function count dish type\n",
        "def count_dish_types(menu):\n",
        "  dish_per_category = {}\n",
        "  for dish,info in menu.items():\n",
        "      if info[0] in dish_per_category:\n",
        "        dish_per_category[info[0]] += 1\n",
        "      else:\n",
        "        dish_per_category[info[0]] = 1\n",
        "\n",
        "  return dish_per_category\n",
        "print(count_dish_types(menu))\n",
        "# function for update price\n",
        "def updtae_price(menu,dish_name,new_price):\n",
        "  for key,value in menu.items():\n",
        "    if key == dish_name:\n",
        "      menu[key] = (value[0],new_price)\n",
        "      print(key,new_price)\n",
        "\n",
        "updtae_price(menu,\"Soup\",9)"
      ],
      "metadata": {
        "id": "XZOTA9-hWaI2",
        "colab": {
          "base_uri": "https://localhost:8080/"
        },
        "outputId": "e0e8eaca-675d-4355-e61a-f2ab975a275f"
      },
      "execution_count": 6,
      "outputs": [
        {
          "output_type": "stream",
          "name": "stdout",
          "text": [
            "Items: Burger\n",
            "Category: Main\n",
            "Price: 10.5$\n",
            "Items: Soup\n",
            "Category: Appetizer\n",
            "Price: 5.0$\n",
            "Items: Ice cream\n",
            "Category: Vanilla\n",
            "Price: 7$\n",
            "Items: Stake\n",
            "Category: Sirloin\n",
            "Price: 20$\n",
            "Items: Soda\n",
            "Category: Lime\n",
            "Price: 8$\n",
            "{'Main': 1, 'Appetizer': 1, 'Vanilla': 1, 'Sirloin': 1, 'Lime': 1}\n",
            "Soup 9\n"
          ]
        }
      ]
    }
  ]
}