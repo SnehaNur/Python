{
  "nbformat": 4,
  "nbformat_minor": 0,
  "metadata": {
    "colab": {
      "provenance": []
    },
    "kernelspec": {
      "name": "python3",
      "display_name": "Python 3"
    },
    "language_info": {
      "name": "python"
    }
  },
  "cells": [
    {
      "cell_type": "markdown",
      "source": [
        "**Exercise 17** (List)"
      ],
      "metadata": {
        "id": "vZR_WPKGboeE"
      }
    },
    {
      "cell_type": "code",
      "source": [
        "height_of_Ahsoka = 1.7\n",
        "height_of_Yoda = 0.66\n",
        "height_of_R2D2 = 1.09\n",
        "height = [height_of_Ahsoka, height_of_Yoda, height_of_R2D2]\n",
        "print(type(height))\n",
        "print(sum(height))"
      ],
      "metadata": {
        "id": "QTMhY1eYbnar",
        "colab": {
          "base_uri": "https://localhost:8080/"
        },
        "outputId": "2b5eafd8-98e1-4b34-b9f7-ca55558d78e0"
      },
      "execution_count": 8,
      "outputs": [
        {
          "output_type": "stream",
          "name": "stdout",
          "text": [
            "<class 'list'>\n",
            "3.45\n"
          ]
        }
      ]
    },
    {
      "cell_type": "markdown",
      "source": [
        "**Exercise 18** (Shopping list)  \n"
      ],
      "metadata": {
        "id": "QdkAG0MHTNbs"
      }
    },
    {
      "cell_type": "code",
      "source": [
        "shopping_list = [\"Milk\",\"Bread\",\"Banana\",\"Suger\"]\n",
        "\n",
        "def instraction1():\n",
        "  shopping_list.append(\"Apples\")\n",
        "  #print(shopping_list)\n",
        "\n",
        "def instraction2():\n",
        "   shopping_list.remove(\"Bread\")\n",
        "   #print(shopping_list)\n",
        "\n",
        "def show_list():\n",
        "  print(\"Your shopping list: \"+str(shopping_list))\n",
        "\n",
        "def total_item():\n",
        "  print(\"Total items: \"+str(len(shopping_list)))\n",
        "\n",
        "instraction1()\n",
        "instraction2()\n",
        "show_list()\n",
        "total_item()"
      ],
      "metadata": {
        "colab": {
          "base_uri": "https://localhost:8080/"
        },
        "id": "Tu5DhKqDJ4Ys",
        "outputId": "bf0c8a1e-7f41-414b-d27c-f150d71e9209"
      },
      "execution_count": 19,
      "outputs": [
        {
          "output_type": "stream",
          "name": "stdout",
          "text": [
            "Your shopping list: ['Milk', 'Banana', 'Suger', 'Apples']\n",
            "Total items: 4\n"
          ]
        }
      ]
    },
    {
      "cell_type": "markdown",
      "source": [
        "**Exercise 19** (The IF, ELSE Statement\n",
        "Completion requirements\n",
        ")"
      ],
      "metadata": {
        "id": "_Ypmy4_uTLtc"
      }
    },
    {
      "cell_type": "code",
      "source": [
        "answer = input(\"Is Rose holding a lightsaber? \")\n",
        "\n",
        "if answer==\"Yes\":\n",
        "  print(\"Yes\")\n",
        "else:\n",
        "  print(\"No\")"
      ],
      "metadata": {
        "colab": {
          "base_uri": "https://localhost:8080/"
        },
        "id": "wbWdSX9jJ4T9",
        "outputId": "5f20fc00-b3ee-474b-a0f4-0d82273dec4d"
      },
      "execution_count": 20,
      "outputs": [
        {
          "output_type": "stream",
          "name": "stdout",
          "text": [
            "Is Rose holding a lightsaber? Yes\n",
            "Yes\n"
          ]
        }
      ]
    },
    {
      "cell_type": "markdown",
      "source": [
        "**Exercise 20**  (Using A Nested IF Statement)"
      ],
      "metadata": {
        "id": "bgeXFIMiVLFx"
      }
    },
    {
      "cell_type": "code",
      "source": [
        "ans = input(\"Is the character is holding a lightsaber? \")\n",
        "\n",
        "if ans == \"Yes\":\n",
        "  print(\"The character is a jedi\")\n",
        "  color = input(\"Is the lightsaber is green? \")\n",
        "  if color == \"Yes\":\n",
        "    print(\"The character is Yoda\")\n",
        "else:\n",
        "  print(\"The character is not a jedi\")"
      ],
      "metadata": {
        "colab": {
          "base_uri": "https://localhost:8080/"
        },
        "id": "biZo1r6WVJuo",
        "outputId": "c1021a11-3952-4b5d-b450-7d9fb1c201fa"
      },
      "execution_count": 25,
      "outputs": [
        {
          "output_type": "stream",
          "name": "stdout",
          "text": [
            "Is the character is holding a lightsaber? Yes\n",
            "The character is a jedi\n",
            "Is the lightsaber is green? Yes\n",
            "The character is Yoda\n"
          ]
        }
      ]
    },
    {
      "cell_type": "markdown",
      "source": [
        "**Exercise 21** (Using ELIF in an IF Statement and the OR & AND Logic)"
      ],
      "metadata": {
        "id": "zwbt7RoXfphh"
      }
    },
    {
      "cell_type": "code",
      "source": [
        "team = input(\"Select team 1 , 2 or 3: \")\n",
        "\n",
        "if team == \"1\":\n",
        "  print(\"You picked team 1,which has 1 character, which is Yoda\")\n",
        "elif team == \"2\":\n",
        "  print(\"You picked team 2, which has 2 characters, Jack & Rose\")\n",
        "else:\n",
        "  print(\"You picked team 3, which has 2 characters, Vader & Leah\")\n",
        "\n",
        "if team == \"1\" and \"3\":\n",
        "  print(\"The number of people on the team is odd.\")\n",
        "else:\n",
        "  print(\"The number of people on the team is even.\")"
      ],
      "metadata": {
        "colab": {
          "base_uri": "https://localhost:8080/"
        },
        "id": "ST4C6HXVYBoY",
        "outputId": "861b92f6-567d-4dab-96a0-615c76c34a87"
      },
      "execution_count": 30,
      "outputs": [
        {
          "output_type": "stream",
          "name": "stdout",
          "text": [
            "Select team 1 , 2 or 3: 2\n",
            "You picked team 2, which has 2 characters, Jack & Rose\n",
            "The number of people on the team is even.\n"
          ]
        }
      ]
    },
    {
      "cell_type": "code",
      "source": [
        "import platform\n",
        "print(platform.python_version())"
      ],
      "metadata": {
        "colab": {
          "base_uri": "https://localhost:8080/"
        },
        "id": "N_oQAsjBYBkz",
        "outputId": "181b065a-425c-4184-be09-9a466e3894e9"
      },
      "execution_count": 31,
      "outputs": [
        {
          "output_type": "stream",
          "name": "stdout",
          "text": [
            "3.11.11\n"
          ]
        }
      ]
    },
    {
      "cell_type": "markdown",
      "source": [
        "**Exercise 22** (Using the MATCH and CASE Logic Completion requirements\n",
        ")"
      ],
      "metadata": {
        "id": "XlJIQEICtxJR"
      }
    },
    {
      "cell_type": "code",
      "source": [
        "team = input(\"Select team 1 , 2 or 3: \")\n",
        "\n",
        "if team == \"1\":\n",
        "  print(\"You picked team 1,which has 1 character, which is Yoda\")\n",
        "elif team == \"2\":\n",
        "  print(\"You picked team 2, which has 2 characters, Jack & Rose\")\n",
        "else:\n",
        "  print(\"You picked team 3, which has 2 characters, Vader & Leah\")\n",
        "\n",
        "if team == \"1\" and \"3\":\n",
        "  print(\"The number of people on the team is odd.\")\n",
        "else:\n",
        "  print(\"The number of people on the team is even.\")\n",
        "Decision = input(\"Good or not good: \")\n",
        "team = int(team)\n",
        "match Decision:\n",
        "  case \"good\":\n",
        "    match team:\n",
        "      case 1:\n",
        "        print(\"good 1\")\n",
        "      case 2:\n",
        "        print(\"good 2\")\n",
        "      case 3:\n",
        "        print(\"good 3\")\n",
        "\n",
        "  case \"not good\":\n",
        "    match team:\n",
        "     case 1:\n",
        "       print(\"Not good 1\")\n",
        "     case 2:\n",
        "       print(\"Not good 2\")\n",
        "     case 3:\n",
        "       print(\"Not good 3\")\n"
      ],
      "metadata": {
        "colab": {
          "base_uri": "https://localhost:8080/"
        },
        "id": "VZ8e8P4yVJRh",
        "outputId": "e711aca7-7900-44de-f9fa-a041c5a35209"
      },
      "execution_count": 44,
      "outputs": [
        {
          "output_type": "stream",
          "name": "stdout",
          "text": [
            "Select team 1 , 2 or 3: 3\n",
            "You picked team 3, which has 2 characters, Vader & Leah\n",
            "The number of people on the team is even.\n",
            "Good or not good: not good\n",
            "Not good 3\n"
          ]
        }
      ]
    },
    {
      "cell_type": "markdown",
      "source": [
        "**Exercise 23** (Using the MATCH and CASE Logic)"
      ],
      "metadata": {
        "id": "tmnlkAJ4uOay"
      }
    },
    {
      "cell_type": "code",
      "source": [
        "Decision = int(input(\"Select team: \"))\n",
        "#Decision = int(Decision)\n",
        "match Decision:\n",
        "      case 1:\n",
        "        print(\"You select team 1\")\n",
        "      case 2:\n",
        "        print(\"You select team 2\")\n",
        "      case 3:\n",
        "        print(\"You select team 3\")\n"
      ],
      "metadata": {
        "colab": {
          "base_uri": "https://localhost:8080/"
        },
        "id": "X6zekhRVuNvy",
        "outputId": "1f9db6e0-9804-4fb2-a8ad-a352317e6c7e"
      },
      "execution_count": 49,
      "outputs": [
        {
          "output_type": "stream",
          "name": "stdout",
          "text": [
            "Select team: 3\n",
            "You select team 3\n"
          ]
        }
      ]
    },
    {
      "cell_type": "markdown",
      "source": [
        "**exercise 24** (Formatting)"
      ],
      "metadata": {
        "id": "OyqCgZzEzO2d"
      }
    },
    {
      "cell_type": "code",
      "source": [
        "Firstclass_ticket = int(input(\"How many tickets do you want to purchase in 1st class: \"))\n",
        "Secondclass_ticket = int(input(\"How many tickets do you want to purchase in 2nd class: \"))\n",
        "Third1class_ticket = int(input(\"How many tickets do you want to purchase in 3rd class: \"))\n",
        "total = (870*Firstclass_ticket)+(100.42*Secondclass_ticket)+(7*Third1class_ticket)\n",
        "print(f\"The total price is {total:.2f} pounds\")"
      ],
      "metadata": {
        "colab": {
          "base_uri": "https://localhost:8080/"
        },
        "id": "4EbMZt1JzOR5",
        "outputId": "779805bf-ad3a-4f37-dbf4-2aa5ae6c244e"
      },
      "execution_count": 52,
      "outputs": [
        {
          "output_type": "stream",
          "name": "stdout",
          "text": [
            "How many tickets do you want to purchase in 1st class: 1\n",
            "How many tickets do you want to purchase in 2nd class: 1\n",
            "How many tickets do you want to purchase in 3rd class: 1\n",
            "The total price is 977.42 pounds\n"
          ]
        }
      ]
    },
    {
      "cell_type": "markdown",
      "source": [
        "**Exercise 25** (Slicing)"
      ],
      "metadata": {
        "id": "w2wSOCWd6vZ1"
      }
    },
    {
      "cell_type": "code",
      "source": [
        "name = \"Titanic\"\n",
        "print(name[6])\n",
        "print(name[6:])\n",
        "print(name[-1])"
      ],
      "metadata": {
        "colab": {
          "base_uri": "https://localhost:8080/"
        },
        "id": "zSr7Mci66uzP",
        "outputId": "9865e548-54ba-4056-c032-295fe79b29b6"
      },
      "execution_count": 55,
      "outputs": [
        {
          "output_type": "stream",
          "name": "stdout",
          "text": [
            "c\n",
            "c\n",
            "c\n"
          ]
        }
      ]
    },
    {
      "cell_type": "markdown",
      "source": [
        "**Exercise 26** (For Loop)"
      ],
      "metadata": {
        "id": "Ts9MUyXe-YJZ"
      }
    },
    {
      "cell_type": "code",
      "source": [
        "arr = [\"Leia\",\"Luka\"]\n",
        "for i in arr:\n",
        "  print(i+\" I am your father.\")"
      ],
      "metadata": {
        "colab": {
          "base_uri": "https://localhost:8080/"
        },
        "id": "YODNbaA86uvw",
        "outputId": "9487d244-197f-447a-d559-80258222ee8e"
      },
      "execution_count": 65,
      "outputs": [
        {
          "output_type": "stream",
          "name": "stdout",
          "text": [
            "Leia I am your father.\n",
            "Luka I am your father.\n"
          ]
        }
      ]
    },
    {
      "cell_type": "markdown",
      "source": [
        "**Exercise 27** (While Loop)"
      ],
      "metadata": {
        "id": "dvwbJaYJ-2_5"
      }
    },
    {
      "cell_type": "code",
      "source": [
        "year = 1912\n",
        "while year<=1984:\n",
        "  print(\"The year is \"+str(year)+\" and nobody has found the Titanic yet.\")\n",
        "  year = year + 1"
      ],
      "metadata": {
        "colab": {
          "base_uri": "https://localhost:8080/"
        },
        "id": "OD-4gews-fau",
        "outputId": "30cbd37e-b243-46b1-c2df-88de54bc8636"
      },
      "execution_count": 70,
      "outputs": [
        {
          "output_type": "stream",
          "name": "stdout",
          "text": [
            "The year is 1912 and nobody has found the Titanic yet.\n",
            "The year is 1913 and nobody has found the Titanic yet.\n",
            "The year is 1914 and nobody has found the Titanic yet.\n",
            "The year is 1915 and nobody has found the Titanic yet.\n",
            "The year is 1916 and nobody has found the Titanic yet.\n",
            "The year is 1917 and nobody has found the Titanic yet.\n",
            "The year is 1918 and nobody has found the Titanic yet.\n",
            "The year is 1919 and nobody has found the Titanic yet.\n",
            "The year is 1920 and nobody has found the Titanic yet.\n",
            "The year is 1921 and nobody has found the Titanic yet.\n",
            "The year is 1922 and nobody has found the Titanic yet.\n",
            "The year is 1923 and nobody has found the Titanic yet.\n",
            "The year is 1924 and nobody has found the Titanic yet.\n",
            "The year is 1925 and nobody has found the Titanic yet.\n",
            "The year is 1926 and nobody has found the Titanic yet.\n",
            "The year is 1927 and nobody has found the Titanic yet.\n",
            "The year is 1928 and nobody has found the Titanic yet.\n",
            "The year is 1929 and nobody has found the Titanic yet.\n",
            "The year is 1930 and nobody has found the Titanic yet.\n",
            "The year is 1931 and nobody has found the Titanic yet.\n",
            "The year is 1932 and nobody has found the Titanic yet.\n",
            "The year is 1933 and nobody has found the Titanic yet.\n",
            "The year is 1934 and nobody has found the Titanic yet.\n",
            "The year is 1935 and nobody has found the Titanic yet.\n",
            "The year is 1936 and nobody has found the Titanic yet.\n",
            "The year is 1937 and nobody has found the Titanic yet.\n",
            "The year is 1938 and nobody has found the Titanic yet.\n",
            "The year is 1939 and nobody has found the Titanic yet.\n",
            "The year is 1940 and nobody has found the Titanic yet.\n",
            "The year is 1941 and nobody has found the Titanic yet.\n",
            "The year is 1942 and nobody has found the Titanic yet.\n",
            "The year is 1943 and nobody has found the Titanic yet.\n",
            "The year is 1944 and nobody has found the Titanic yet.\n",
            "The year is 1945 and nobody has found the Titanic yet.\n",
            "The year is 1946 and nobody has found the Titanic yet.\n",
            "The year is 1947 and nobody has found the Titanic yet.\n",
            "The year is 1948 and nobody has found the Titanic yet.\n",
            "The year is 1949 and nobody has found the Titanic yet.\n",
            "The year is 1950 and nobody has found the Titanic yet.\n",
            "The year is 1951 and nobody has found the Titanic yet.\n",
            "The year is 1952 and nobody has found the Titanic yet.\n",
            "The year is 1953 and nobody has found the Titanic yet.\n",
            "The year is 1954 and nobody has found the Titanic yet.\n",
            "The year is 1955 and nobody has found the Titanic yet.\n",
            "The year is 1956 and nobody has found the Titanic yet.\n",
            "The year is 1957 and nobody has found the Titanic yet.\n",
            "The year is 1958 and nobody has found the Titanic yet.\n",
            "The year is 1959 and nobody has found the Titanic yet.\n",
            "The year is 1960 and nobody has found the Titanic yet.\n",
            "The year is 1961 and nobody has found the Titanic yet.\n",
            "The year is 1962 and nobody has found the Titanic yet.\n",
            "The year is 1963 and nobody has found the Titanic yet.\n",
            "The year is 1964 and nobody has found the Titanic yet.\n",
            "The year is 1965 and nobody has found the Titanic yet.\n",
            "The year is 1966 and nobody has found the Titanic yet.\n",
            "The year is 1967 and nobody has found the Titanic yet.\n",
            "The year is 1968 and nobody has found the Titanic yet.\n",
            "The year is 1969 and nobody has found the Titanic yet.\n",
            "The year is 1970 and nobody has found the Titanic yet.\n",
            "The year is 1971 and nobody has found the Titanic yet.\n",
            "The year is 1972 and nobody has found the Titanic yet.\n",
            "The year is 1973 and nobody has found the Titanic yet.\n",
            "The year is 1974 and nobody has found the Titanic yet.\n",
            "The year is 1975 and nobody has found the Titanic yet.\n",
            "The year is 1976 and nobody has found the Titanic yet.\n",
            "The year is 1977 and nobody has found the Titanic yet.\n",
            "The year is 1978 and nobody has found the Titanic yet.\n",
            "The year is 1979 and nobody has found the Titanic yet.\n",
            "The year is 1980 and nobody has found the Titanic yet.\n",
            "The year is 1981 and nobody has found the Titanic yet.\n",
            "The year is 1982 and nobody has found the Titanic yet.\n",
            "The year is 1983 and nobody has found the Titanic yet.\n",
            "The year is 1984 and nobody has found the Titanic yet.\n"
          ]
        }
      ]
    }
  ]
}