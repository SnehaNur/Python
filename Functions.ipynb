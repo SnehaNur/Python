{
  "nbformat": 4,
  "nbformat_minor": 0,
  "metadata": {
    "colab": {
      "provenance": []
    },
    "kernelspec": {
      "name": "python3",
      "display_name": "Python 3"
    },
    "language_info": {
      "name": "python"
    }
  },
  "cells": [
    {
      "cell_type": "markdown",
      "source": [
        "# Built-In Function abs( )"
      ],
      "metadata": {
        "id": "iWmZeD7LcqQI"
      }
    },
    {
      "cell_type": "code",
      "source": [
        "x = -123\n",
        "y = -2311\n",
        "\n",
        "print(abs(x))\n",
        "print(y)"
      ],
      "metadata": {
        "colab": {
          "base_uri": "https://localhost:8080/"
        },
        "id": "i6uhLhmJcp0B",
        "outputId": "15190699-2a82-4f73-ffd7-c19cf327cf9f"
      },
      "execution_count": 2,
      "outputs": [
        {
          "output_type": "stream",
          "name": "stdout",
          "text": [
            "123\n",
            "-2311\n"
          ]
        }
      ]
    },
    {
      "cell_type": "markdown",
      "source": [
        "# Built-In Function all( )"
      ],
      "metadata": {
        "id": "irT9xIyidFkg"
      }
    },
    {
      "cell_type": "code",
      "execution_count": 4,
      "metadata": {
        "colab": {
          "base_uri": "https://localhost:8080/"
        },
        "id": "sqwbG7IccTTg",
        "outputId": "5f60088d-6e1c-4e59-8795-912b0d6152e3"
      },
      "outputs": [
        {
          "output_type": "stream",
          "name": "stdout",
          "text": [
            "False\n"
          ]
        }
      ],
      "source": [
        "my_list = [True, False, True]\n",
        "x = all(my_list)\n",
        "\n",
        "print(x)"
      ]
    },
    {
      "cell_type": "markdown",
      "source": [
        "# Built-In Function any( )"
      ],
      "metadata": {
        "id": "N5fMmQjpdXyC"
      }
    },
    {
      "cell_type": "code",
      "source": [
        "my_list = [True, False, False]\n",
        "x = any(my_list)\n",
        "\n",
        "print(x)"
      ],
      "metadata": {
        "colab": {
          "base_uri": "https://localhost:8080/"
        },
        "id": "jC5t3xPYdW8g",
        "outputId": "33a2a284-c5e4-4259-c1a4-2589afdfcdce"
      },
      "execution_count": 6,
      "outputs": [
        {
          "output_type": "stream",
          "name": "stdout",
          "text": [
            "True\n"
          ]
        }
      ]
    },
    {
      "cell_type": "markdown",
      "source": [
        "# Built-In Function ascii ( )"
      ],
      "metadata": {
        "id": "GBpKvnBodlUY"
      }
    },
    {
      "cell_type": "code",
      "source": [
        "letter = 'Hello 世界'\n",
        "print(ascii(letter))"
      ],
      "metadata": {
        "colab": {
          "base_uri": "https://localhost:8080/"
        },
        "id": "XHXaN9v3dW5n",
        "outputId": "2d297228-73a7-45c7-e0b8-c89cb969a9c4"
      },
      "execution_count": 12,
      "outputs": [
        {
          "output_type": "stream",
          "name": "stdout",
          "text": [
            "'Hello \\u4e16\\u754c'\n"
          ]
        }
      ]
    },
    {
      "cell_type": "markdown",
      "source": [],
      "metadata": {
        "id": "g7F9kNk6eEYf"
      }
    },
    {
      "cell_type": "markdown",
      "source": [
        "# Built-In Function bin( )"
      ],
      "metadata": {
        "id": "NPDvLbGHesC3"
      }
    },
    {
      "cell_type": "code",
      "source": [
        "Number = 12345\n",
        "print(bin(Number))"
      ],
      "metadata": {
        "colab": {
          "base_uri": "https://localhost:8080/"
        },
        "id": "Cs78EBhEdW0n",
        "outputId": "e2621060-9e3c-429e-b986-3acbe6639627"
      },
      "execution_count": 13,
      "outputs": [
        {
          "output_type": "stream",
          "name": "stdout",
          "text": [
            "0b11000000111001\n"
          ]
        }
      ]
    },
    {
      "cell_type": "markdown",
      "source": [
        "# Built-In Function bool( )"
      ],
      "metadata": {
        "id": "XB18KZ32e-f-"
      }
    },
    {
      "cell_type": "code",
      "source": [
        "x = 12\n",
        "y = 0\n",
        "c = ''\n",
        "print(bool(x))\n",
        "print(bool(y))\n",
        "print(bool(c))"
      ],
      "metadata": {
        "colab": {
          "base_uri": "https://localhost:8080/"
        },
        "id": "_c33Dkw9dWx4",
        "outputId": "0e773093-9189-48a0-f599-f3da31a9413d"
      },
      "execution_count": 14,
      "outputs": [
        {
          "output_type": "stream",
          "name": "stdout",
          "text": [
            "True\n",
            "False\n",
            "False\n"
          ]
        }
      ]
    },
    {
      "cell_type": "markdown",
      "source": [
        "# Built-In Function bytearray( )"
      ],
      "metadata": {
        "id": "WTicelvcf6Ye"
      }
    },
    {
      "cell_type": "code",
      "source": [
        "x_list = [ 97, 98, 99]\n",
        "\n",
        "bytearray(x_list)"
      ],
      "metadata": {
        "colab": {
          "base_uri": "https://localhost:8080/"
        },
        "id": "NQCtm-aTfqKW",
        "outputId": "86d8c951-8c49-4ac0-fc71-f9e4c1b964df"
      },
      "execution_count": 28,
      "outputs": [
        {
          "output_type": "execute_result",
          "data": {
            "text/plain": [
              "bytearray(b'abc')"
            ]
          },
          "metadata": {},
          "execution_count": 28
        }
      ]
    },
    {
      "cell_type": "markdown",
      "source": [
        "# Built-In Function bytes( )"
      ],
      "metadata": {
        "id": "KwwF05v9hHpb"
      }
    },
    {
      "cell_type": "code",
      "source": [
        "x_list = [ 97, 98, 99]\n",
        "\n",
        "print(bytes(x_list))"
      ],
      "metadata": {
        "colab": {
          "base_uri": "https://localhost:8080/"
        },
        "id": "TdX2QK3ifqIF",
        "outputId": "c3c87e5e-141b-4585-b548-0eb13a79feb3"
      },
      "execution_count": 29,
      "outputs": [
        {
          "output_type": "stream",
          "name": "stdout",
          "text": [
            "b'abc'\n"
          ]
        }
      ]
    },
    {
      "cell_type": "markdown",
      "source": [
        "# Built-In Function callable( )"
      ],
      "metadata": {
        "id": "UGbaT2DihbQL"
      }
    },
    {
      "cell_type": "code",
      "source": [
        "def Func():\n",
        "  return True\n",
        "\n",
        "def func():\n",
        "  return False\n",
        "\n",
        "print(callable(Func))\n",
        "print(callable(func))"
      ],
      "metadata": {
        "colab": {
          "base_uri": "https://localhost:8080/"
        },
        "id": "s4ffaE1LfqFb",
        "outputId": "2baee647-104e-4731-ed03-04683ecdddbe"
      },
      "execution_count": 30,
      "outputs": [
        {
          "output_type": "stream",
          "name": "stdout",
          "text": [
            "True\n",
            "True\n"
          ]
        }
      ]
    },
    {
      "cell_type": "markdown",
      "source": [
        "# Built-In Function chr ( )"
      ],
      "metadata": {
        "id": "o_isPjwEh05r"
      }
    },
    {
      "cell_type": "code",
      "source": [
        "x = 97\n",
        "print(chr(x))"
      ],
      "metadata": {
        "colab": {
          "base_uri": "https://localhost:8080/"
        },
        "id": "qIb0HUPWfqC2",
        "outputId": "155bbe93-12a7-4efc-c558-f26db4a21bcd"
      },
      "execution_count": 31,
      "outputs": [
        {
          "output_type": "stream",
          "name": "stdout",
          "text": [
            "a\n"
          ]
        }
      ]
    },
    {
      "cell_type": "markdown",
      "source": [
        "# Built-In Function classmethod( )"
      ],
      "metadata": {
        "id": "vbvAWnOViJp_"
      }
    },
    {
      "cell_type": "code",
      "source": [
        "class Person:\n",
        "    age = 25\n",
        "\n",
        "    @classmethod\n",
        "    def printAge(cls):\n",
        "        print('The age is:', cls.age)\n",
        "\n",
        "# create printAge class method\n",
        "Person.printAge = (Person.printAge)\n",
        "\n",
        "Person.printAge()"
      ],
      "metadata": {
        "id": "xhVtHkT7tJlK"
      },
      "execution_count": null,
      "outputs": []
    },
    {
      "cell_type": "markdown",
      "source": [
        "# Built-In Function complex( )"
      ],
      "metadata": {
        "id": "4Y0h_zxOtNzi"
      }
    },
    {
      "cell_type": "code",
      "source": [
        "real = 45\n",
        "imaginary = 56\n",
        "\n",
        "complex(real, imaginary)"
      ],
      "metadata": {
        "colab": {
          "base_uri": "https://localhost:8080/"
        },
        "id": "6I2h5X13iJaP",
        "outputId": "54ae8d6d-3fb7-4ca3-e353-3cddc22dcc73"
      },
      "execution_count": 35,
      "outputs": [
        {
          "output_type": "execute_result",
          "data": {
            "text/plain": [
              "(45+56j)"
            ]
          },
          "metadata": {},
          "execution_count": 35
        }
      ]
    },
    {
      "cell_type": "markdown",
      "source": [
        "# Built-In Function dict( )"
      ],
      "metadata": {
        "id": "Ec3qYOuxvJZA"
      }
    },
    {
      "cell_type": "code",
      "source": [
        "data = (('a',1), ('b',2), ('c',3))\n",
        "\n",
        "print(dict(data))"
      ],
      "metadata": {
        "colab": {
          "base_uri": "https://localhost:8080/"
        },
        "id": "ZTb9VxsctNPr",
        "outputId": "4036acc9-3e70-4830-e2e3-a5e6d89ccc6f"
      },
      "execution_count": 42,
      "outputs": [
        {
          "output_type": "stream",
          "name": "stdout",
          "text": [
            "{'a': 1, 'b': 2, 'c': 3}\n"
          ]
        }
      ]
    },
    {
      "cell_type": "markdown",
      "source": [
        "# Built-In Function divmod( )"
      ],
      "metadata": {
        "id": "Uxt14ADHw-ao"
      }
    },
    {
      "cell_type": "code",
      "source": [
        "divmod(3456,56) #"
      ],
      "metadata": {
        "colab": {
          "base_uri": "https://localhost:8080/"
        },
        "id": "oAdmdYm-tNNV",
        "outputId": "d2bd8885-bbbd-4b65-a192-0df8518e5100"
      },
      "execution_count": 43,
      "outputs": [
        {
          "output_type": "execute_result",
          "data": {
            "text/plain": [
              "(61, 40)"
            ]
          },
          "metadata": {},
          "execution_count": 43
        }
      ]
    },
    {
      "cell_type": "markdown",
      "source": [
        "# Built-In Function enumerate( )"
      ],
      "metadata": {
        "id": "Mih9TW-DyDSl"
      }
    },
    {
      "cell_type": "code",
      "source": [
        "my_list = [\"apple\", \"banana\", \"orange\"]\n",
        "\n",
        "for index,i in enumerate(my_list):\n",
        "    print(i)"
      ],
      "metadata": {
        "colab": {
          "base_uri": "https://localhost:8080/"
        },
        "id": "QDXI73HytNLB",
        "outputId": "b8f7abca-b24b-4dbb-f26a-cd6bf6dbbaa9"
      },
      "execution_count": 47,
      "outputs": [
        {
          "output_type": "stream",
          "name": "stdout",
          "text": [
            "apple\n",
            "banana\n",
            "orange\n"
          ]
        }
      ]
    },
    {
      "cell_type": "markdown",
      "source": [
        "# Built-In Function eval( )"
      ],
      "metadata": {
        "id": "p8PRayv5zp5v"
      }
    },
    {
      "cell_type": "code",
      "source": [
        "string = \"3 * 3 \"\n",
        "\n",
        "print(string)\n",
        "print(eval(string))"
      ],
      "metadata": {
        "colab": {
          "base_uri": "https://localhost:8080/"
        },
        "id": "iG82Gd_6tNH_",
        "outputId": "5a0865be-85f2-4c66-b00a-0f94c95854f5"
      },
      "execution_count": 50,
      "outputs": [
        {
          "output_type": "stream",
          "name": "stdout",
          "text": [
            "3 * 3 \n",
            "9\n"
          ]
        }
      ]
    },
    {
      "cell_type": "markdown",
      "source": [
        "# Built-In Function exec( )"
      ],
      "metadata": {
        "id": "Fw95ilug1AI-"
      }
    },
    {
      "cell_type": "code",
      "source": [
        "string = '''\n",
        "def func(name):\n",
        "  print(\"My name is \"+name)\n",
        "\n",
        "func(\"Hafsa\")\n",
        "\n",
        "'''"
      ],
      "metadata": {
        "id": "-DHyevUciJXL"
      },
      "execution_count": 51,
      "outputs": []
    },
    {
      "cell_type": "code",
      "source": [
        "exec(string)"
      ],
      "metadata": {
        "colab": {
          "base_uri": "https://localhost:8080/"
        },
        "id": "kiw-jkrKdWvP",
        "outputId": "0d0b1078-536d-46f2-a913-688373c18744"
      },
      "execution_count": 53,
      "outputs": [
        {
          "output_type": "stream",
          "name": "stdout",
          "text": [
            "My name is Hafsa\n"
          ]
        }
      ]
    },
    {
      "cell_type": "markdown",
      "source": [
        "# Built-In Function filter( )"
      ],
      "metadata": {
        "id": "B-8QALn62XDC"
      }
    },
    {
      "cell_type": "code",
      "source": [
        "def even_func(x):\n",
        "    return x % 2 == 0\n",
        "\n",
        "my_list = [1,23,4,5,1,32,34,56,778,543]\n",
        "\n",
        "list(filter(even_func,my_list))\n"
      ],
      "metadata": {
        "colab": {
          "base_uri": "https://localhost:8080/"
        },
        "id": "MTFSv5a61mNA",
        "outputId": "9d461c72-66ed-438d-a0af-cb3cab47d731"
      },
      "execution_count": 63,
      "outputs": [
        {
          "output_type": "execute_result",
          "data": {
            "text/plain": [
              "[4, 32, 34, 56, 778]"
            ]
          },
          "metadata": {},
          "execution_count": 63
        }
      ]
    },
    {
      "cell_type": "markdown",
      "source": [
        "# Built-In Function float( )"
      ],
      "metadata": {
        "id": "6gn_PUPD4EHk"
      }
    },
    {
      "cell_type": "code",
      "source": [
        "string = \"123.8365\"\n",
        "print(type(string))\n",
        "\n",
        "string = float(string)\n",
        "print(type(string))"
      ],
      "metadata": {
        "colab": {
          "base_uri": "https://localhost:8080/"
        },
        "id": "BWcGozjQ1mKU",
        "outputId": "65f2e384-d4d7-4ce2-e579-44f7a78eccbf"
      },
      "execution_count": 68,
      "outputs": [
        {
          "output_type": "stream",
          "name": "stdout",
          "text": [
            "<class 'str'>\n",
            "<class 'float'>\n"
          ]
        }
      ]
    },
    {
      "cell_type": "markdown",
      "source": [
        "# Built-In Function format( )"
      ],
      "metadata": {
        "id": "ewg_-ow25Kef"
      }
    },
    {
      "cell_type": "code",
      "source": [
        "name =\"Hafsa\"\n",
        "age = \"23\"\n",
        "\n",
        "print(\"My name is {} and my age is {}\".format(name,age))"
      ],
      "metadata": {
        "colab": {
          "base_uri": "https://localhost:8080/"
        },
        "id": "0pSmxzBc1mHj",
        "outputId": "28f9efcb-f798-4ffe-c4c7-2c6f98f2dd6c"
      },
      "execution_count": 69,
      "outputs": [
        {
          "output_type": "stream",
          "name": "stdout",
          "text": [
            "My name is Hafsa and my age is 23\n"
          ]
        }
      ]
    },
    {
      "cell_type": "markdown",
      "source": [
        "# Built-In Function frozenset( )"
      ],
      "metadata": {
        "id": "Y77882Gq6VtA"
      }
    },
    {
      "cell_type": "code",
      "source": [
        "frozenset([1, 2, 3, 4, 5, 6, 7, 8])"
      ],
      "metadata": {
        "colab": {
          "base_uri": "https://localhost:8080/"
        },
        "id": "fcZ3ElBw1mEy",
        "outputId": "36d3c591-6c31-464e-8494-27f6574d079b"
      },
      "execution_count": 71,
      "outputs": [
        {
          "output_type": "execute_result",
          "data": {
            "text/plain": [
              "frozenset({1, 2, 3, 4, 5, 6, 7, 8})"
            ]
          },
          "metadata": {},
          "execution_count": 71
        }
      ]
    },
    {
      "cell_type": "markdown",
      "source": [
        "# Built-In Function hash( )"
      ],
      "metadata": {
        "id": "gKVXDdl7G5ar"
      }
    },
    {
      "cell_type": "code",
      "source": [
        "Text = \" Hello everyone!\"\n",
        "\n",
        "print(Text)\n",
        "print(hash(Text))"
      ],
      "metadata": {
        "colab": {
          "base_uri": "https://localhost:8080/"
        },
        "id": "qzF6l2vOG5Mk",
        "outputId": "6e7bbfe5-a30d-499e-9c52-88a9df6bc31f"
      },
      "execution_count": 76,
      "outputs": [
        {
          "output_type": "stream",
          "name": "stdout",
          "text": [
            " Hello everyone!\n",
            "7264073110694188685\n"
          ]
        }
      ]
    },
    {
      "cell_type": "markdown",
      "source": [
        "# Built-In Function help( )"
      ],
      "metadata": {
        "id": "2ZUIYowJHpxa"
      }
    },
    {
      "cell_type": "code",
      "source": [
        "help(abs)"
      ],
      "metadata": {
        "colab": {
          "base_uri": "https://localhost:8080/"
        },
        "id": "IqQcdZQgG5Ho",
        "outputId": "a2492042-e123-4630-be56-970cac4fa049"
      },
      "execution_count": 78,
      "outputs": [
        {
          "output_type": "stream",
          "name": "stdout",
          "text": [
            "Help on built-in function abs in module builtins:\n",
            "\n",
            "abs(x, /)\n",
            "    Return the absolute value of the argument.\n",
            "\n"
          ]
        }
      ]
    },
    {
      "cell_type": "code",
      "source": [
        "help(float)"
      ],
      "metadata": {
        "colab": {
          "base_uri": "https://localhost:8080/"
        },
        "id": "kx9kSOZZG5Et",
        "outputId": "229e306a-534b-4640-876c-cb5221cc0197"
      },
      "execution_count": 79,
      "outputs": [
        {
          "output_type": "stream",
          "name": "stdout",
          "text": [
            "Help on class float in module builtins:\n",
            "\n",
            "class float(object)\n",
            " |  float(x=0, /)\n",
            " |  \n",
            " |  Convert a string or number to a floating point number, if possible.\n",
            " |  \n",
            " |  Methods defined here:\n",
            " |  \n",
            " |  __abs__(self, /)\n",
            " |      abs(self)\n",
            " |  \n",
            " |  __add__(self, value, /)\n",
            " |      Return self+value.\n",
            " |  \n",
            " |  __bool__(self, /)\n",
            " |      True if self else False\n",
            " |  \n",
            " |  __ceil__(self, /)\n",
            " |      Return the ceiling as an Integral.\n",
            " |  \n",
            " |  __divmod__(self, value, /)\n",
            " |      Return divmod(self, value).\n",
            " |  \n",
            " |  __eq__(self, value, /)\n",
            " |      Return self==value.\n",
            " |  \n",
            " |  __float__(self, /)\n",
            " |      float(self)\n",
            " |  \n",
            " |  __floor__(self, /)\n",
            " |      Return the floor as an Integral.\n",
            " |  \n",
            " |  __floordiv__(self, value, /)\n",
            " |      Return self//value.\n",
            " |  \n",
            " |  __format__(self, format_spec, /)\n",
            " |      Formats the float according to format_spec.\n",
            " |  \n",
            " |  __ge__(self, value, /)\n",
            " |      Return self>=value.\n",
            " |  \n",
            " |  __getattribute__(self, name, /)\n",
            " |      Return getattr(self, name).\n",
            " |  \n",
            " |  __getnewargs__(self, /)\n",
            " |  \n",
            " |  __gt__(self, value, /)\n",
            " |      Return self>value.\n",
            " |  \n",
            " |  __hash__(self, /)\n",
            " |      Return hash(self).\n",
            " |  \n",
            " |  __int__(self, /)\n",
            " |      int(self)\n",
            " |  \n",
            " |  __le__(self, value, /)\n",
            " |      Return self<=value.\n",
            " |  \n",
            " |  __lt__(self, value, /)\n",
            " |      Return self<value.\n",
            " |  \n",
            " |  __mod__(self, value, /)\n",
            " |      Return self%value.\n",
            " |  \n",
            " |  __mul__(self, value, /)\n",
            " |      Return self*value.\n",
            " |  \n",
            " |  __ne__(self, value, /)\n",
            " |      Return self!=value.\n",
            " |  \n",
            " |  __neg__(self, /)\n",
            " |      -self\n",
            " |  \n",
            " |  __pos__(self, /)\n",
            " |      +self\n",
            " |  \n",
            " |  __pow__(self, value, mod=None, /)\n",
            " |      Return pow(self, value, mod).\n",
            " |  \n",
            " |  __radd__(self, value, /)\n",
            " |      Return value+self.\n",
            " |  \n",
            " |  __rdivmod__(self, value, /)\n",
            " |      Return divmod(value, self).\n",
            " |  \n",
            " |  __repr__(self, /)\n",
            " |      Return repr(self).\n",
            " |  \n",
            " |  __rfloordiv__(self, value, /)\n",
            " |      Return value//self.\n",
            " |  \n",
            " |  __rmod__(self, value, /)\n",
            " |      Return value%self.\n",
            " |  \n",
            " |  __rmul__(self, value, /)\n",
            " |      Return value*self.\n",
            " |  \n",
            " |  __round__(self, ndigits=None, /)\n",
            " |      Return the Integral closest to x, rounding half toward even.\n",
            " |      \n",
            " |      When an argument is passed, work like built-in round(x, ndigits).\n",
            " |  \n",
            " |  __rpow__(self, value, mod=None, /)\n",
            " |      Return pow(value, self, mod).\n",
            " |  \n",
            " |  __rsub__(self, value, /)\n",
            " |      Return value-self.\n",
            " |  \n",
            " |  __rtruediv__(self, value, /)\n",
            " |      Return value/self.\n",
            " |  \n",
            " |  __sub__(self, value, /)\n",
            " |      Return self-value.\n",
            " |  \n",
            " |  __truediv__(self, value, /)\n",
            " |      Return self/value.\n",
            " |  \n",
            " |  __trunc__(self, /)\n",
            " |      Return the Integral closest to x between 0 and x.\n",
            " |  \n",
            " |  as_integer_ratio(self, /)\n",
            " |      Return integer ratio.\n",
            " |      \n",
            " |      Return a pair of integers, whose ratio is exactly equal to the original float\n",
            " |      and with a positive denominator.\n",
            " |      \n",
            " |      Raise OverflowError on infinities and a ValueError on NaNs.\n",
            " |      \n",
            " |      >>> (10.0).as_integer_ratio()\n",
            " |      (10, 1)\n",
            " |      >>> (0.0).as_integer_ratio()\n",
            " |      (0, 1)\n",
            " |      >>> (-.25).as_integer_ratio()\n",
            " |      (-1, 4)\n",
            " |  \n",
            " |  conjugate(self, /)\n",
            " |      Return self, the complex conjugate of any float.\n",
            " |  \n",
            " |  hex(self, /)\n",
            " |      Return a hexadecimal representation of a floating-point number.\n",
            " |      \n",
            " |      >>> (-0.1).hex()\n",
            " |      '-0x1.999999999999ap-4'\n",
            " |      >>> 3.14159.hex()\n",
            " |      '0x1.921f9f01b866ep+1'\n",
            " |  \n",
            " |  is_integer(self, /)\n",
            " |      Return True if the float is an integer.\n",
            " |  \n",
            " |  ----------------------------------------------------------------------\n",
            " |  Class methods defined here:\n",
            " |  \n",
            " |  __getformat__(typestr, /)\n",
            " |      You probably don't want to use this function.\n",
            " |      \n",
            " |        typestr\n",
            " |          Must be 'double' or 'float'.\n",
            " |      \n",
            " |      It exists mainly to be used in Python's test suite.\n",
            " |      \n",
            " |      This function returns whichever of 'unknown', 'IEEE, big-endian' or 'IEEE,\n",
            " |      little-endian' best describes the format of floating point numbers used by the\n",
            " |      C type named by typestr.\n",
            " |  \n",
            " |  fromhex(string, /)\n",
            " |      Create a floating-point number from a hexadecimal string.\n",
            " |      \n",
            " |      >>> float.fromhex('0x1.ffffp10')\n",
            " |      2047.984375\n",
            " |      >>> float.fromhex('-0x1p-1074')\n",
            " |      -5e-324\n",
            " |  \n",
            " |  ----------------------------------------------------------------------\n",
            " |  Static methods defined here:\n",
            " |  \n",
            " |  __new__(*args, **kwargs)\n",
            " |      Create and return a new object.  See help(type) for accurate signature.\n",
            " |  \n",
            " |  ----------------------------------------------------------------------\n",
            " |  Data descriptors defined here:\n",
            " |  \n",
            " |  imag\n",
            " |      the imaginary part of a complex number\n",
            " |  \n",
            " |  real\n",
            " |      the real part of a complex number\n",
            "\n"
          ]
        }
      ]
    },
    {
      "cell_type": "markdown",
      "source": [
        "# Built-In Function hex( )"
      ],
      "metadata": {
        "id": "NyJjarKzJhrx"
      }
    },
    {
      "cell_type": "code",
      "source": [
        "num = 2353\n",
        "\n",
        "print(hex(num))"
      ],
      "metadata": {
        "colab": {
          "base_uri": "https://localhost:8080/"
        },
        "id": "fKsiDlEWG5Bb",
        "outputId": "27c4383c-96c8-471b-a657-bc61f389aad5"
      },
      "execution_count": 80,
      "outputs": [
        {
          "output_type": "stream",
          "name": "stdout",
          "text": [
            "0x931\n"
          ]
        }
      ]
    },
    {
      "cell_type": "code",
      "source": [],
      "metadata": {
        "id": "EQ4gW74NG49k"
      },
      "execution_count": null,
      "outputs": []
    },
    {
      "cell_type": "code",
      "source": [],
      "metadata": {
        "id": "_whFVeFPG44d"
      },
      "execution_count": null,
      "outputs": []
    }
  ]
}