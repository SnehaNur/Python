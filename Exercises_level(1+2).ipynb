{
  "nbformat": 4,
  "nbformat_minor": 0,
  "metadata": {
    "colab": {
      "provenance": []
    },
    "kernelspec": {
      "name": "python3",
      "display_name": "Python 3"
    },
    "language_info": {
      "name": "python"
    }
  },
  "cells": [
    {
      "cell_type": "markdown",
      "source": [
        "**Exercise 1**"
      ],
      "metadata": {
        "id": "-BIVJ-KESQtM"
      }
    },
    {
      "cell_type": "code",
      "execution_count": 1,
      "metadata": {
        "colab": {
          "base_uri": "https://localhost:8080/"
        },
        "id": "-mLRXJ2cIus9",
        "outputId": "62c0ad19-0792-4406-cf6f-453f39b6d9a6"
      },
      "outputs": [
        {
          "output_type": "stream",
          "name": "stdout",
          "text": [
            "Hello World\n"
          ]
        }
      ],
      "source": [
        "#This code prints Hello World\n",
        "print(\"Hello World\")"
      ]
    },
    {
      "cell_type": "code",
      "source": [
        "name= str(\"Mr.X\")\n",
        "print(name)\n",
        "type(name)"
      ],
      "metadata": {
        "colab": {
          "base_uri": "https://localhost:8080/"
        },
        "id": "S24D5p9LPbx9",
        "outputId": "91067bd1-e768-456b-8cc7-89d0c94941c7"
      },
      "execution_count": 3,
      "outputs": [
        {
          "output_type": "stream",
          "name": "stdout",
          "text": [
            "Mr.X\n"
          ]
        },
        {
          "output_type": "execute_result",
          "data": {
            "text/plain": [
              "str"
            ]
          },
          "metadata": {},
          "execution_count": 3
        }
      ]
    },
    {
      "cell_type": "markdown",
      "source": [
        "**Exercise 2**"
      ],
      "metadata": {
        "id": "aQEZQDB4SYEa"
      }
    },
    {
      "cell_type": "code",
      "source": [
        "name= str(\"Darth Vader\")\n",
        "print(name)\n",
        "age= int(19)\n",
        "print(age)"
      ],
      "metadata": {
        "colab": {
          "base_uri": "https://localhost:8080/"
        },
        "id": "GOPbdsoGSXBi",
        "outputId": "ce2f0df7-06be-4d7d-ae92-7cb7113bbb5d"
      },
      "execution_count": 4,
      "outputs": [
        {
          "output_type": "stream",
          "name": "stdout",
          "text": [
            "Darth Vader\n",
            "19\n"
          ]
        }
      ]
    },
    {
      "cell_type": "markdown",
      "source": [
        "**Exercise 3**"
      ],
      "metadata": {
        "id": "sQzPIE6BX_Av"
      }
    },
    {
      "cell_type": "code",
      "source": [
        "I_cant_do_it = False\n",
        "print(I_cant_do_it)\n",
        "\n",
        "answer= 40.01\n",
        "print(answer)"
      ],
      "metadata": {
        "colab": {
          "base_uri": "https://localhost:8080/"
        },
        "id": "xLE58TpJSW6l",
        "outputId": "8a7b3f4f-86f6-4150-c121-2c8283ba899b"
      },
      "execution_count": 6,
      "outputs": [
        {
          "output_type": "stream",
          "name": "stdout",
          "text": [
            "False\n",
            "40.01\n"
          ]
        }
      ]
    },
    {
      "cell_type": "markdown",
      "source": [
        "**Exercise 4**"
      ],
      "metadata": {
        "id": "vZR_WPKGboeE"
      }
    },
    {
      "cell_type": "code",
      "source": [
        "height= str()\n",
        "height= \"1.09\"\n",
        "print(height)\n",
        "height=float(\"1.09\")\n",
        "add= 0.66+ height\n",
        "print(add)"
      ],
      "metadata": {
        "colab": {
          "base_uri": "https://localhost:8080/"
        },
        "id": "8G8995q0bnyA",
        "outputId": "e496fcac-3d7f-41ef-99e7-a8bd4176a01f"
      },
      "execution_count": 10,
      "outputs": [
        {
          "output_type": "stream",
          "name": "stdout",
          "text": [
            "1.09\n",
            "1.75\n"
          ]
        }
      ]
    },
    {
      "cell_type": "code",
      "source": [],
      "metadata": {
        "id": "QTMhY1eYbnar"
      },
      "execution_count": null,
      "outputs": []
    }
  ]
}