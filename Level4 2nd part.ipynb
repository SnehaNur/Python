{
  "nbformat": 4,
  "nbformat_minor": 0,
  "metadata": {
    "colab": {
      "provenance": []
    },
    "kernelspec": {
      "name": "python3",
      "display_name": "Python 3"
    },
    "language_info": {
      "name": "python"
    }
  },
  "cells": [
    {
      "cell_type": "markdown",
      "source": [
        "**Exercise 11** Creating Basic Custom Functions Part 2"
      ],
      "metadata": {
        "id": "MVwW-fJluGZB"
      }
    },
    {
      "cell_type": "code",
      "source": [
        "name = input(\"Who was on the Titanic? \")\n",
        "year = input(\"What year is it? \")\n",
        "\n",
        "def print_function(name,year):\n",
        "  year_calculation = int(year)-1912\n",
        "  print(name+\" were on the Titanic,which sunk \"+str(year_calculation)+\" years ago\")\n",
        "print_function(name,year)"
      ],
      "metadata": {
        "colab": {
          "base_uri": "https://localhost:8080/"
        },
        "id": "n7uqW6_wuFmj",
        "outputId": "ecf5905c-c590-45bf-9996-77a4fd18beef"
      },
      "execution_count": 3,
      "outputs": [
        {
          "output_type": "stream",
          "name": "stdout",
          "text": [
            "Who was on the Titanic? Jack and Rose\n",
            "What year is it? 2025\n",
            "Jack and Rose were on the Titanic,which sunk 113 years ago\n"
          ]
        }
      ]
    },
    {
      "cell_type": "markdown",
      "source": [
        "**Exercise 12**  Creating Advanced Functions (Keyword and Default Values)"
      ],
      "metadata": {
        "id": "wcflxS5tzjZz"
      }
    },
    {
      "cell_type": "code",
      "source": [
        "def my_age(age=19):\n",
        "  print(\"My age is \" +str(age))\n",
        "\n",
        "my_age(39)\n",
        "my_age()"
      ],
      "metadata": {
        "colab": {
          "base_uri": "https://localhost:8080/"
        },
        "id": "vKpZ4Zg9xnqs",
        "outputId": "21fe2c8a-bd6d-4401-8053-4b76df9b4153"
      },
      "execution_count": 6,
      "outputs": [
        {
          "output_type": "stream",
          "name": "stdout",
          "text": [
            "My age is 39\n",
            "My age is 19\n"
          ]
        }
      ]
    },
    {
      "cell_type": "markdown",
      "source": [
        "**Exercise 13**  Returning Values from Custom Functions (fahrenheit_to_celsius)"
      ],
      "metadata": {
        "id": "mNEu7Ybe0M5r"
      }
    },
    {
      "cell_type": "code",
      "source": [
        "def fahrenheit_to_celsius(val):\n",
        "  result = (val-32)/1.8\n",
        "  return result\n",
        "\n",
        "fahrenheit_to_celsius(80)"
      ],
      "metadata": {
        "colab": {
          "base_uri": "https://localhost:8080/"
        },
        "id": "MxFVNiPt0MPB",
        "outputId": "a0531138-1310-44e6-9e26-07c905cbf521"
      },
      "execution_count": 8,
      "outputs": [
        {
          "output_type": "execute_result",
          "data": {
            "text/plain": [
              "26.666666666666664"
            ]
          },
          "metadata": {},
          "execution_count": 8
        }
      ]
    },
    {
      "cell_type": "markdown",
      "source": [
        "**Exercise 14** (celsius_to_fahrenheit)"
      ],
      "metadata": {
        "id": "Hn94me-s1DwR"
      }
    },
    {
      "cell_type": "code",
      "source": [
        "def celcious_to_fahrenheit(val):\n",
        "  result = (val*1.8)+32\n",
        "  return result\n",
        "\n",
        "celcious_to_fahrenheit(26.67)"
      ],
      "metadata": {
        "colab": {
          "base_uri": "https://localhost:8080/"
        },
        "id": "0XIc5HRExnhd",
        "outputId": "6a5a29c7-71e0-4b0a-e8bc-ed87bb3042c5"
      },
      "execution_count": 10,
      "outputs": [
        {
          "output_type": "execute_result",
          "data": {
            "text/plain": [
              "80.006"
            ]
          },
          "metadata": {},
          "execution_count": 10
        }
      ]
    },
    {
      "cell_type": "markdown",
      "source": [
        "**Exercise 15** simple calculator"
      ],
      "metadata": {
        "id": "fdm3CEbR2ooh"
      }
    },
    {
      "cell_type": "code",
      "source": [
        "num1 = input(\"Enter the first number: \")\n",
        "num2 = input(\"Enter the second number: \")\n",
        "op = input(\"Enter a operator(+,-,*,/): \")\n",
        "\n",
        "if op == \"+\":\n",
        "  add = int(num1)+int(num2)\n",
        "  print(\"Addition of the given number\"+str(add))\n",
        "elif op == \"-\":\n",
        "  sub = int(num1)-int(num2)\n",
        "  print(\"Subtraction of the given number\"+str(sub))\n",
        "elif op == \"*\":\n",
        "  mult = int(num1)*int(num2)\n",
        "  print(\"Multiplication of the given number\"+str(mult))\n",
        "elif op == \"/\":\n",
        "  div = int(num1)/int(num2)\n",
        "  print(\"Division of the given number\"+str(div))"
      ],
      "metadata": {
        "colab": {
          "base_uri": "https://localhost:8080/"
        },
        "id": "lxkftbCCxnWt",
        "outputId": "46e6bfd8-fe47-4f86-c1d9-d150b4e8bbbb"
      },
      "execution_count": 14,
      "outputs": [
        {
          "output_type": "stream",
          "name": "stdout",
          "text": [
            "Enter the first number: 33\n",
            "Enter the second number: 3\n",
            "Enter a operator(+,-,*,/): /\n",
            "Division of the given number11.0\n"
          ]
        }
      ]
    },
    {
      "cell_type": "markdown",
      "source": [
        "**Exercise 16** Using function  (simple calculator)"
      ],
      "metadata": {
        "id": "IHVKQjOH6Ky5"
      }
    },
    {
      "cell_type": "code",
      "source": [
        "def add(num1,num2):\n",
        "  return num1+num2\n",
        "\n",
        "def sub(num1,num2):\n",
        "  return num1-num2\n",
        "\n",
        "def mult(num1,num2):\n",
        "  return num1*num2\n",
        "\n",
        "def div(num1,num2):\n",
        "  return num1/num2\n",
        "\n",
        "num1 = int(input(\"Enter the first number: \"))\n",
        "num2 = int(input(\"Enter the second number: \"))\n",
        "op = input(\"Enter a operator(+,-,*,/): \")\n",
        "\n",
        "if op == \"+\":\n",
        "  print(\"Addition of the given number\",add(num1,num2))\n",
        "\n",
        "elif op == \"-\":\n",
        "  print(\"Subtraction of the given number\",sub(num1,num2))\n",
        "\n",
        "elif op == \"*\":\n",
        "  print(\"Multiplication of the given number\",mult(num1,num2))\n",
        "\n",
        "elif op == \"/\":\n",
        "  print(\"Division of the given number\",div(num1,num2))"
      ],
      "metadata": {
        "colab": {
          "base_uri": "https://localhost:8080/"
        },
        "id": "qsJwjdSQ6KV1",
        "outputId": "bc45ce74-8843-4558-aa2f-7d6ba2b9cf36"
      },
      "execution_count": 22,
      "outputs": [
        {
          "output_type": "stream",
          "name": "stdout",
          "text": [
            "Enter the first number: 4\n",
            "Enter the second number: 2\n",
            "Enter a operator(+,-,*,/): /\n",
            "Division of the given number 2.0\n"
          ]
        }
      ]
    }
  ]
}