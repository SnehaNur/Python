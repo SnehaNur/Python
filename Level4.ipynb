{
  "nbformat": 4,
  "nbformat_minor": 0,
  "metadata": {
    "colab": {
      "provenance": []
    },
    "kernelspec": {
      "name": "python3",
      "display_name": "Python 3"
    },
    "language_info": {
      "name": "python"
    }
  },
  "cells": [
    {
      "cell_type": "markdown",
      "source": [
        "**Exercise 8**"
      ],
      "metadata": {
        "id": "W-bJtari0ya6"
      }
    },
    {
      "cell_type": "code",
      "source": [
        "Ahsoka_height= float(1.70)\n",
        "Yoda_height=float(0.66)\n",
        "R2D2_height=float(1.09)\n",
        "print(\"The average height is \", float(Ahsoka_height+Yoda_height+R2D2_height)/3)\n",
        "print(\"The maximum height is \", float(max(Ahsoka_height,Yoda_height,R2D2_height)))\n",
        "print(\"The minimum height is \", float(min(Ahsoka_height,Yoda_height,R2D2_height)))"
      ],
      "metadata": {
        "colab": {
          "base_uri": "https://localhost:8080/"
        },
        "id": "pNaYk1SC0yFY",
        "outputId": "af894f32-1268-4be0-b28b-4dcb05f47de3"
      },
      "execution_count": null,
      "outputs": [
        {
          "output_type": "stream",
          "name": "stdout",
          "text": [
            "The average height is  1.1500000000000001\n",
            "The maximum height is  1.7\n",
            "The minimum height is  0.66\n"
          ]
        }
      ]
    },
    {
      "cell_type": "markdown",
      "source": [
        "**Exercise 9**"
      ],
      "metadata": {
        "id": "NMZMh8St4QJC"
      }
    },
    {
      "cell_type": "code",
      "source": [
        "name= input(\"What is your name? \")\n",
        "age= input(\"How old are you? \")\n",
        "print(\"Your name is \"+name+\".Your age is \"+age+\".\")\n"
      ],
      "metadata": {
        "colab": {
          "base_uri": "https://localhost:8080/"
        },
        "id": "KAKLMDS_kait",
        "outputId": "fb9a67f5-a161-423a-db3e-f77a5a9a3793"
      },
      "execution_count": null,
      "outputs": [
        {
          "output_type": "stream",
          "name": "stdout",
          "text": [
            "What is your name? Hafsa\n",
            "How old are you? 23\n",
            "Your name is Hafsa.Your age is 23.\n"
          ]
        }
      ]
    },
    {
      "cell_type": "markdown",
      "source": [
        "**Exercise 9**"
      ],
      "metadata": {
        "id": "Oipwq-_m9K_P"
      }
    },
    {
      "cell_type": "code",
      "source": [
        "def age_of_rey():\n",
        "  age = input(\"How old are you? \")\n",
        "  print(\"Rey you are \"+age+\" years old\")\n",
        "age_of_rey()"
      ],
      "metadata": {
        "colab": {
          "base_uri": "https://localhost:8080/"
        },
        "id": "JnoJVXUBkafs",
        "outputId": "40841080-7754-4af2-b661-8d1b3c08e6d7"
      },
      "execution_count": null,
      "outputs": [
        {
          "output_type": "stream",
          "name": "stdout",
          "text": [
            "How old are you? 23\n",
            "Rey you are 23 years old\n"
          ]
        }
      ]
    },
    {
      "cell_type": "markdown",
      "source": [
        "**Exercise 10**"
      ],
      "metadata": {
        "id": "Kr01a_QC_jF_"
      }
    },
    {
      "cell_type": "code",
      "source": [
        "name=input(\"who was on the Titanic? \")\n",
        "year= input(\"What year is it currently? \")\n",
        "year_calculation=int(year)-1912\n",
        "print(name+\" were on the Titanic,which sunk \"+str(year_calculation)+\" years ago\")"
      ],
      "metadata": {
        "colab": {
          "base_uri": "https://localhost:8080/"
        },
        "id": "3db81pKekaci",
        "outputId": "4b46eb33-11c0-401d-ed9a-63e9d93e7eb6"
      },
      "execution_count": null,
      "outputs": [
        {
          "output_type": "stream",
          "name": "stdout",
          "text": [
            "who was on the Titanic? Jack and Rose\n",
            "What year is it currently? 2025\n",
            "Jack and Rose were on the Titanic,which sunk 113 years ago\n"
          ]
        }
      ]
    }
  ]
}