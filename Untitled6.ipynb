{
  "nbformat": 4,
  "nbformat_minor": 0,
  "metadata": {
    "colab": {
      "provenance": []
    },
    "kernelspec": {
      "name": "python3",
      "display_name": "Python 3"
    },
    "language_info": {
      "name": "python"
    }
  },
  "cells": [
    {
      "cell_type": "code",
      "execution_count": 14,
      "metadata": {
        "colab": {
          "base_uri": "https://localhost:8080/"
        },
        "id": "ZdWjLEEdNZr6",
        "outputId": "cc8b2c51-ba5c-4b6b-924f-4bf4e869d353"
      },
      "outputs": [
        {
          "output_type": "stream",
          "name": "stdout",
          "text": [
            "Name of the student : Romi\n",
            "Id : 12\n",
            "Email : abc@gmail.com\n"
          ]
        }
      ],
      "source": [
        "from os import EX_TEMPFAIL\n",
        "# Inheritance\n",
        "class Student:\n",
        "  def __init__(self,name,id,number):\n",
        "    self.name = name\n",
        "    self.id = id\n",
        "    self.number = number\n",
        "\n",
        "  def print(self):\n",
        "    print(f\"Name of the student : {self.name}\\nId : {self.id}\\nNumber : {self.number}\")\n",
        "\n",
        "class personal_info(Student):\n",
        "\n",
        "  def info(self,email):\n",
        "    self.email = email\n",
        "    print(f\"Name of the student : {self.name}\\nId : {self.id}\\nEmail : {self.email}\")\n",
        "\n",
        "\n",
        "#student = Student(\"Romi\",12,1234)\n",
        "#student.print()\n",
        "x = personal_info(\"Romi\",12,1234)\n",
        "x.info(\"abc@gmail.com\")\n",
        ""
      ]
    },
    {
      "cell_type": "code",
      "source": [
        "import numpy as np\n",
        "monthly_sales = np.array([200, 220, 250, 275, 300, 320,\n",
        "                          350, 370, 400, 420, 450, 475])"
      ],
      "metadata": {
        "id": "WYr8IajvMDdh"
      },
      "execution_count": 1,
      "outputs": []
    },
    {
      "cell_type": "code",
      "source": [
        "print(f\"January {monthly_sales[0]}\")\n",
        "print(f\"December {monthly_sales[11]}\")"
      ],
      "metadata": {
        "colab": {
          "base_uri": "https://localhost:8080/"
        },
        "id": "gg6dLcSmMDZF",
        "outputId": "865a7a89-b243-41f4-cb30-b65ebae6e988"
      },
      "execution_count": 5,
      "outputs": [
        {
          "output_type": "stream",
          "name": "stdout",
          "text": [
            "January 200\n",
            "December 475\n"
          ]
        }
      ]
    },
    {
      "cell_type": "code",
      "source": [
        "q1 = monthly_sales[:3]\n",
        "print(q1)\n",
        "q2 = monthly_sales[3:6]\n",
        "print(q2)\n",
        "q3 = monthly_sales[6:9]\n",
        "print(q3)\n",
        "q4 = monthly_sales[9:]\n",
        "print(q4)"
      ],
      "metadata": {
        "colab": {
          "base_uri": "https://localhost:8080/"
        },
        "id": "r9k1mModOSTH",
        "outputId": "6fa84da7-a1a2-482f-f9fe-faec655003a9"
      },
      "execution_count": 9,
      "outputs": [
        {
          "output_type": "stream",
          "name": "stdout",
          "text": [
            "[200 220 250]\n",
            "[275 300 320]\n",
            "[350 370 400]\n",
            "[420 450 475]\n"
          ]
        }
      ]
    },
    {
      "cell_type": "code",
      "source": [
        "monthly_sales[3] = 280\n",
        "print(monthly_sales[3])"
      ],
      "metadata": {
        "colab": {
          "base_uri": "https://localhost:8080/"
        },
        "id": "fWeaXfT6PH79",
        "outputId": "60e108f7-3475-4135-b5dd-2189a5a952ea"
      },
      "execution_count": 11,
      "outputs": [
        {
          "output_type": "stream",
          "name": "stdout",
          "text": [
            "280\n"
          ]
        }
      ]
    },
    {
      "cell_type": "code",
      "source": [
        "x = monthly_sales[5:8]\n",
        "print(x)\n",
        "np.mean(monthly_sales[5:8])"
      ],
      "metadata": {
        "colab": {
          "base_uri": "https://localhost:8080/"
        },
        "id": "YHtjKCDVSrG3",
        "outputId": "169ac2fd-feea-43c6-cca3-720ad40e57b2"
      },
      "execution_count": 16,
      "outputs": [
        {
          "output_type": "stream",
          "name": "stdout",
          "text": [
            "[320 350 370]\n"
          ]
        },
        {
          "output_type": "execute_result",
          "data": {
            "text/plain": [
              "346.6666666666667"
            ]
          },
          "metadata": {},
          "execution_count": 16
        }
      ]
    }
  ]
}