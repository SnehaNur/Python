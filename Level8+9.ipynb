{
  "nbformat": 4,
  "nbformat_minor": 0,
  "metadata": {
    "colab": {
      "provenance": []
    },
    "kernelspec": {
      "name": "python3",
      "display_name": "Python 3"
    },
    "language_info": {
      "name": "python"
    }
  },
  "cells": [
    {
      "cell_type": "markdown",
      "source": [
        "**Exercise 32**  Methods"
      ],
      "metadata": {
        "id": "vZR_WPKGboeE"
      }
    },
    {
      "cell_type": "code",
      "source": [
        "name = str(\"C3P0\")\n",
        "print(name.replace(\"C3P0\",\"R2D2\"))"
      ],
      "metadata": {
        "colab": {
          "base_uri": "https://localhost:8080/"
        },
        "id": "EttnA000bAL1",
        "outputId": "3aff61b5-4a9c-472a-985b-dfe94594627b"
      },
      "execution_count": null,
      "outputs": [
        {
          "output_type": "stream",
          "name": "stdout",
          "text": [
            "R2D2\n"
          ]
        }
      ]
    },
    {
      "cell_type": "markdown",
      "source": [
        "**Exercise 33** String Methods"
      ],
      "metadata": {
        "id": "K70fRrgzgtSv"
      }
    },
    {
      "cell_type": "code",
      "source": [
        "jacks_name = \"Jack\"\n",
        "emplty_glass_case = \" \"\n",
        "print(jacks_name.isalpha())\n",
        "print(emplty_glass_case.isspace())"
      ],
      "metadata": {
        "colab": {
          "base_uri": "https://localhost:8080/"
        },
        "id": "jCZMpT9ybAIf",
        "outputId": "636e6ab9-ceba-42fb-9f99-860970ec7050"
      },
      "execution_count": null,
      "outputs": [
        {
          "output_type": "stream",
          "name": "stdout",
          "text": [
            "True\n",
            "True\n"
          ]
        }
      ]
    },
    {
      "cell_type": "markdown",
      "source": [
        "**Exercise 34** Advanced String Operations"
      ],
      "metadata": {
        "id": "7qnmev6vpKij"
      }
    },
    {
      "cell_type": "code",
      "source": [
        "name1 = \"Princess Leia\"\n",
        "print(name1.split())\n",
        "name2 = \"Baby Yoda\"\n",
        "x = name2.lstrip(\"Baby \")\n",
        "print(x)\n",
        "name3 = \"Baby Yoda\"\n",
        "y = name3.replace(\"Baby\",\"Master\")\n",
        "print(y)"
      ],
      "metadata": {
        "colab": {
          "base_uri": "https://localhost:8080/"
        },
        "id": "Hre6QX1wbAFM",
        "outputId": "d5caed68-9244-40c5-dbe4-fb3251ebec56"
      },
      "execution_count": null,
      "outputs": [
        {
          "output_type": "stream",
          "name": "stdout",
          "text": [
            "['Princess', 'Leia']\n",
            "Yoda\n",
            "Master Yoda\n"
          ]
        }
      ]
    },
    {
      "cell_type": "markdown",
      "source": [
        "**Exercise 34** Recurssioon"
      ],
      "metadata": {
        "id": "hY2qgN3Q5TYz"
      }
    },
    {
      "cell_type": "code",
      "source": [
        "def factorial(n):\n",
        "  if n == 0:\n",
        "    return 1\n",
        "  else:\n",
        "    return n*factorial(n-1)\n",
        "\n",
        "factorial(5)"
      ],
      "metadata": {
        "id": "m2h3-oHMa__t",
        "colab": {
          "base_uri": "https://localhost:8080/"
        },
        "outputId": "d2564f7f-9dd9-4463-fc45-7c63701f051a"
      },
      "execution_count": 13,
      "outputs": [
        {
          "output_type": "execute_result",
          "data": {
            "text/plain": [
              "120"
            ]
          },
          "metadata": {},
          "execution_count": 13
        }
      ]
    },
    {
      "cell_type": "markdown",
      "source": [
        "**Exercise 35** Creating Your First Class and Instance"
      ],
      "metadata": {
        "id": "l0k5zIQkKD5t"
      }
    },
    {
      "cell_type": "code",
      "source": [
        "class persons_info:\n",
        "  def __init__(self,name,age):\n",
        "    print(\"My name is \",name,\" and my age is \",age)\n",
        "  def burk():\n",
        "    print(\"Burk Burk\")\n",
        "\n",
        "person = persons_info(\"Rohim\",\"23\")\n",
        "persons_info.burk()\n"
      ],
      "metadata": {
        "id": "RMROj3uza_8b",
        "colab": {
          "base_uri": "https://localhost:8080/"
        },
        "outputId": "bba7223a-4bc9-497e-8935-d404eb201b6b"
      },
      "execution_count": 20,
      "outputs": [
        {
          "output_type": "stream",
          "name": "stdout",
          "text": [
            "My name is  Rohim  and my age is  23\n",
            "Burk Burk\n"
          ]
        }
      ]
    },
    {
      "cell_type": "markdown",
      "source": [
        "**Exercise 36** Classes, Instances and Attributes"
      ],
      "metadata": {
        "id": "kk7CRF5iOSQA"
      }
    },
    {
      "cell_type": "code",
      "source": [
        "class car:\n",
        "  wheels = 4\n",
        "  def __init__(self, maker, model):\n",
        "    self.maker = maker\n",
        "    self.model = model\n",
        "\n",
        "car1 = car(\"Toyota\",\"Corolla\")\n",
        "print(\"Name of the car \",car1.maker,\" and wheels of the car\",car1.wheels)\n",
        "\n"
      ],
      "metadata": {
        "id": "VcujmAfLa_bR",
        "colab": {
          "base_uri": "https://localhost:8080/"
        },
        "outputId": "6ce859b1-a70b-42e5-b945-f6e081b55ce5"
      },
      "execution_count": 24,
      "outputs": [
        {
          "output_type": "stream",
          "name": "stdout",
          "text": [
            "Name of the car  Toyota  and wheels of the car 4\n"
          ]
        }
      ]
    },
    {
      "cell_type": "markdown",
      "source": [
        "**Exercise 37** Inheritance"
      ],
      "metadata": {
        "id": "PsCys9CMlea6"
      }
    },
    {
      "cell_type": "code",
      "source": [
        "class vehicle():\n",
        "   extra_tire= 4\n",
        "\n",
        "class truk(vehicle):\n",
        "  print(vehicle.extra_tire)\n",
        "\n",
        "#truk()"
      ],
      "metadata": {
        "colab": {
          "base_uri": "https://localhost:8080/"
        },
        "id": "bpAv6hwvldoa",
        "outputId": "8f360cf5-17a8-4849-c00b-0a44837528f8"
      },
      "execution_count": 28,
      "outputs": [
        {
          "output_type": "stream",
          "name": "stdout",
          "text": [
            "4\n"
          ]
        }
      ]
    },
    {
      "cell_type": "markdown",
      "source": [
        "**Exercise 38** Encapsulation"
      ],
      "metadata": {
        "id": "muqGfnUko4AG"
      }
    },
    {
      "cell_type": "code",
      "source": [
        "class Account():\n",
        "  def __init__(self,amount):\n",
        "    self.__amount = amount\n",
        "  def deposit(self,taka):\n",
        "    self.__amount += taka\n",
        "  def get_balance(self):\n",
        "    return self.__amount\n",
        "\n",
        "acc = Account(10000)\n",
        "acc.deposit(100)\n",
        "print(acc.get_balance())"
      ],
      "metadata": {
        "colab": {
          "base_uri": "https://localhost:8080/"
        },
        "id": "ywGCntxPo3SP",
        "outputId": "a0a45007-6c37-48ad-d14a-94494cf0b3ec"
      },
      "execution_count": 36,
      "outputs": [
        {
          "output_type": "stream",
          "name": "stdout",
          "text": [
            "10100\n"
          ]
        }
      ]
    },
    {
      "cell_type": "code",
      "source": [
        "class computer():\n",
        "  def __init__(self, brand,model):\n",
        "    self.__brand = brand\n",
        "    self.__model = model\n",
        "  def get_info(self):\n",
        "    return self.__brand + \",\" + self.__model\n",
        "\n",
        "computer = computer(\"Apple\",\"Macbook\")\n",
        "computer.get_info()"
      ],
      "metadata": {
        "colab": {
          "base_uri": "https://localhost:8080/",
          "height": 35
        },
        "id": "rXrewPuWsXv9",
        "outputId": "4532ad0c-f8ed-4486-c579-4e6936cb631d"
      },
      "execution_count": 41,
      "outputs": [
        {
          "output_type": "execute_result",
          "data": {
            "text/plain": [
              "'Apple,Macbook'"
            ],
            "application/vnd.google.colaboratory.intrinsic+json": {
              "type": "string"
            }
          },
          "metadata": {},
          "execution_count": 41
        }
      ]
    }
  ]
}