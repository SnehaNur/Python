{
  "nbformat": 4,
  "nbformat_minor": 0,
  "metadata": {
    "colab": {
      "provenance": []
    },
    "kernelspec": {
      "name": "python3",
      "display_name": "Python 3"
    },
    "language_info": {
      "name": "python"
    }
  },
  "cells": [
    {
      "cell_type": "markdown",
      "source": [
        "**Exercise 5**"
      ],
      "metadata": {
        "id": "V3y6bA2Xka3E"
      }
    },
    {
      "cell_type": "code",
      "source": [
        "Ahsoka_height= float(1.70)\n",
        "Yoda_height=float(0.66)\n",
        "R2D2_height=float(1.09)\n",
        "C3P0_height=float(1.75)\n",
        "print((Ahsoka_height+Yoda_height+R2D2_height+C3P0_height)/4)"
      ],
      "metadata": {
        "colab": {
          "base_uri": "https://localhost:8080/"
        },
        "id": "ReV2v-QnkarN",
        "outputId": "4f93fc36-83b8-4b75-b27b-5f65a76aef47"
      },
      "execution_count": 1,
      "outputs": [
        {
          "output_type": "stream",
          "name": "stdout",
          "text": [
            "1.3\n"
          ]
        }
      ]
    },
    {
      "cell_type": "markdown",
      "source": [
        "**Exercise 6**"
      ],
      "metadata": {
        "id": "SZ-2QXVLm2Oh"
      }
    },
    {
      "cell_type": "code",
      "source": [
        "name1= \"Jack\"\n",
        "name2= \"Rose\"\n",
        "year=int(1912)\n",
        "#print(type(name1))\n",
        "#print(type(name2))\n",
        "print(name1+\" and \"+name2+\" were on the Titanic in \"+str(year))\n"
      ],
      "metadata": {
        "colab": {
          "base_uri": "https://localhost:8080/"
        },
        "id": "h1qgZX9Ikaos",
        "outputId": "951e4fc8-c3d8-482b-ef39-d61de62685e6"
      },
      "execution_count": 17,
      "outputs": [
        {
          "output_type": "stream",
          "name": "stdout",
          "text": [
            "Jack and Rose were on the Titanic in 1912\n"
          ]
        }
      ]
    },
    {
      "cell_type": "markdown",
      "source": [
        "**Exercise 7**"
      ],
      "metadata": {
        "id": "RDDSNi_LqbPH"
      }
    },
    {
      "cell_type": "code",
      "source": [
        "principle = 1000\n",
        "rate = 5\n",
        "time = 2\n",
        "interest = (principle*rate*time)/100\n",
        "print(interest)"
      ],
      "metadata": {
        "colab": {
          "base_uri": "https://localhost:8080/"
        },
        "id": "qCruDoKOkal0",
        "outputId": "7e5dfce0-08c3-4211-e739-2704f4cdc73a"
      },
      "execution_count": 18,
      "outputs": [
        {
          "output_type": "stream",
          "name": "stdout",
          "text": [
            "100.0\n"
          ]
        }
      ]
    },
    {
      "cell_type": "code",
      "source": [],
      "metadata": {
        "id": "KAKLMDS_kait"
      },
      "execution_count": null,
      "outputs": []
    },
    {
      "cell_type": "code",
      "source": [],
      "metadata": {
        "id": "JnoJVXUBkafs"
      },
      "execution_count": null,
      "outputs": []
    },
    {
      "cell_type": "code",
      "source": [],
      "metadata": {
        "id": "3db81pKekaci"
      },
      "execution_count": null,
      "outputs": []
    },
    {
      "cell_type": "code",
      "source": [],
      "metadata": {
        "id": "MTEbqauqkaWr"
      },
      "execution_count": null,
      "outputs": []
    },
    {
      "cell_type": "code",
      "execution_count": null,
      "metadata": {
        "id": "deLcZ1VykZzn"
      },
      "outputs": [],
      "source": []
    }
  ]
}